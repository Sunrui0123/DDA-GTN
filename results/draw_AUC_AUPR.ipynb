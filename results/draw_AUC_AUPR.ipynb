{
 "cells": [
  {
   "cell_type": "markdown",
   "id": "55c3788d",
   "metadata": {},
   "source": [
    "# 画AUPR曲线和ROC曲线"
   ]
  },
  {
   "cell_type": "code",
   "execution_count": 1,
   "id": "bde91227",
   "metadata": {},
   "outputs": [],
   "source": [
    "import seaborn\n",
    "import numpy as np\n",
    "import pandas as pd\n",
    "from sklearn.metrics import roc_curve, roc_auc_score, precision_recall_curve, average_precision_score\n",
    "import matplotlib.pyplot as plt\n",
    "import matplotlib\n",
    "plt.rc('font', family='Times New Roman')\n",
    "matplotlib.rcParams.update({'font.size': 14}) # 改变所有字体大小，改变其他性质类似\n",
    "plt.rc('font', weight='bold')\n",
    "from sklearn import metrics"
   ]
  },
  {
   "cell_type": "markdown",
   "id": "40e813a0",
   "metadata": {},
   "source": [
    "## 1、导入保存的五次五折的概率值score和真实标签"
   ]
  },
  {
   "cell_type": "code",
   "execution_count": 2,
   "id": "36a15d91",
   "metadata": {},
   "outputs": [],
   "source": [
    "#-------第一次五折\n",
    "K_score = pd.read_csv('records/seed222/Siridataset/score.csv', index_col=0)\n",
    "K_label = pd.read_csv('records/seed222/Siridataset/true_label.csv', index_col=0)\n",
    "y_true = np.array(K_label)\n",
    "y_score = np.array(K_score)\n",
    "\n",
    "#-------第二次五折\n",
    "K_score2 = pd.read_csv('records/seed444/Siridataset/score.csv', index_col=0)\n",
    "K_label2 = pd.read_csv('records/seed444/Siridataset/true_label.csv', index_col=0)\n",
    "y_true2 = np.array(K_label2)\n",
    "y_score2 = np.array(K_score2)\n",
    "\n",
    "#-------第三次五折\n",
    "K_score3 = pd.read_csv('records/seed666/Siridataset/score.csv', index_col=0)\n",
    "K_label3 = pd.read_csv('records/seed666/Siridataset/true_label.csv', index_col=0)\n",
    "y_true3 = np.array(K_label3)\n",
    "y_score3 = np.array(K_score3)\n",
    "\n",
    "#-------第四次五折\n",
    "K_score4 = pd.read_csv('records/seed777/Siridataset/score.csv', index_col=0)\n",
    "K_label4 = pd.read_csv('records/seed777/Siridataset/true_label.csv', index_col=0)\n",
    "y_true4 = np.array(K_label4)\n",
    "y_score4 = np.array(K_score4)\n",
    "\n",
    "#-------第五次五折\n",
    "K_score5 = pd.read_csv('records/seed999/Siridataset/score.csv', index_col=0)\n",
    "K_label5 = pd.read_csv('records/seed999/Siridataset/true_label.csv', index_col=0)\n",
    "y_true5 = np.array(K_label5)\n",
    "y_score5 = np.array(K_score5)"
   ]
  },
  {
   "cell_type": "code",
   "execution_count": 3,
   "id": "61ec1ce9",
   "metadata": {},
   "outputs": [],
   "source": [
    "# 把五次五折的数据连接起来\n",
    "label = np.concatenate((y_true, y_true2, y_true3, y_true4, y_true5), axis=0)\n",
    "score = np.concatenate((y_score, y_score2, y_score3, y_score4, y_score5), axis=0)"
   ]
  },
  {
   "cell_type": "markdown",
   "id": "32d68581",
   "metadata": {},
   "source": [
    "## 2、绘制AUPR曲线"
   ]
  },
  {
   "cell_type": "code",
   "execution_count": 4,
   "id": "90d987b2",
   "metadata": {},
   "outputs": [],
   "source": [
    "def plot_pr(y, score):\n",
    "    plt.rc('font', family='Times New Roman')\n",
    "    font = 'Times New Roman'\n",
    "    precision_dtc, recall_dtc, thresholds_dtc = precision_recall_curve(y, score)\n",
    "    # aupr= metrics.auc(recall_dtc, precision_dtc)  # 计算AUPR值\n",
    "    plt.plot(recall_dtc,precision_dtc,  color='darkorange',label='AUPR=0.904±0.009')\n",
    "    # precision_dtc2, recall_dtc2, thresholds_dtc2 = precision_recall_curve(y2, score2)\n",
    "    # aupr2 = metrics.auc(recall_dtc2, precision_dtc2)  # 计算AUPR值\n",
    "    # plt.plot(precision_dtc2, recall_dtc2, color='steelblue',label='without weights')\n",
    "    # plt.title('Precision-Recall curve')\n",
    "    # plt.plot([1, 0], [0, 1], 'r--')\n",
    "    plt.xlim([0.0, 1.05])\n",
    "    plt.ylim([0.5, 1.05])\n",
    "    plt.ylabel('Precision',weight = 'bold')\n",
    "    plt.xlabel('Recall',weight = 'bold')\n",
    "    # plt.grid(linestyle='-.')\n",
    "    # plt.grid(True)\n",
    "    # plt.legend(loc='upper right')\n",
    "    plt.legend(loc='upper left')\n",
    "#     plt.savefig(\"Mdata_AUPR.png\", dpi=300)\n",
    "#     plt.savefig(\"Mdata_AUPR_600.png\", dpi=600)\n",
    "#     plt.savefig('Mdata_AUPR_svg_600.svg', format='svg', dpi=600)  # 输出\n",
    "    plt.show()"
   ]
  },
  {
   "cell_type": "code",
   "execution_count": 5,
   "id": "54ec9bb7",
   "metadata": {},
   "outputs": [
    {
     "data": {
      "image/png": "[encoded data removed]",
      "text/plain": [
       "<Figure size 432x288 with 1 Axes>"
      ]
     },
     "metadata": {
      "needs_background": "light"
     },
     "output_type": "display_data"
    }
   ],
   "source": [
    "plot_pr(label,score)"
   ]
  },
  {
   "cell_type": "markdown",
   "id": "1339d3eb",
   "metadata": {},
   "source": [
    "## 3、绘制ROC曲线"
   ]
  },
  {
   "cell_type": "code",
   "execution_count": 6,
   "id": "9578c478",
   "metadata": {},
   "outputs": [],
   "source": [
    "def plot_roc(y, score):\n",
    "    # y = [0 1 0 1 0 1...] score = [[0.1 0.9], [0.4, 0.6]...] numpy\n",
    "\n",
    "    fpr, tpr, thresholds = roc_curve(y, score)\n",
    "    auc = metrics.auc(fpr, tpr)\n",
    "    # fpr2, tpr2, thresholds2 = roc_curve(y2, score2)\n",
    "    # auc2 = metrics.auc(fpr2, tpr2)\n",
    "    # plot\n",
    "    # plt.title('Receiver Operating Characteristic')\n",
    "    plt.plot(fpr, tpr, color='darkorange', label='AUROC=0.915±0.010')\n",
    "    # plt.plot(fpr2, tpr2, color='steelblue', label='AUROC=0.844±0.012')\n",
    "    # plt.plot(fpr, tpr, color='darkorange', label='with weights ROC curve (area = %0.2f)' % auc)\n",
    "    # plt.plot(fpr2, tpr2, color='steelblue', label='without weights ROC curve (area = %0.2f)' % auc2)\n",
    "\n",
    "    # plt.plot([0, 1], [0, 1], 'r--')\n",
    "    plt.xlim([-0.05, 1.1])\n",
    "    plt.ylim([-0.05, 1.1])\n",
    "    plt.ylabel('True Positive Rate',weight = 'bold')\n",
    "    plt.xlabel('False Positive Rate',weight = 'bold')\n",
    "    # plt.grid(linestyle='-.')\n",
    "    plt.legend(loc='upper left')\n",
    "    # plt.subplots_adjust(top=1, bottom=0, right=0.93, left=0, hspace=0, wspace=0)\n",
    "    plt.margins(0, 0)\n",
    "    # plt.grid(True)\n",
    "#     plt.savefig(\"Mdata_ROC.png\", dpi=300, bbox_inches=\"tight\",pad_inches = -0.1)\n",
    "#     plt.savefig(\"Mdata_ROC600.png\", dpi=600)\n",
    "#     plt.savefig('Mdata_ROC_svg_600.svg', format='svg', dpi=600)  # 输出\n",
    "    plt.show()"
   ]
  },
  {
   "cell_type": "code",
   "execution_count": 7,
   "id": "9c24d64b",
   "metadata": {},
   "outputs": [
    {
     "data": {
      "image/png": "[encoded data removed]",
      "text/plain": [
       "<Figure size 432x288 with 1 Axes>"
      ]
     },
     "metadata": {
      "needs_background": "light"
     },
     "output_type": "display_data"
    }
   ],
   "source": [
    "# 画ROC曲线图\n",
    "plot_roc(label,score)"
   ]
  },
  {
   "cell_type": "code",
   "execution_count": null,
   "id": "0b9371a3",
   "metadata": {},
   "outputs": [],
   "source": []
  }
 ],
 "metadata": {
  "kernelspec": {
   "display_name": "Python 3 (ipykernel)",
   "language": "python",
   "name": "python3"
  },
  "language_info": {
   "codemirror_mode": {
    "name": "ipython",
    "version": 3
   },
   "file_extension": ".py",
   "mimetype": "text/x-python",
   "name": "python",
   "nbconvert_exporter": "python",
   "pygments_lexer": "ipython3",
   "version": "3.9.7"
  }
 },
 "nbformat": 4,
 "nbformat_minor": 5
}
